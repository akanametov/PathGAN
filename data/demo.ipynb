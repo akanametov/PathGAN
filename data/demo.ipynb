{
 "cells": [
  {
   "cell_type": "code",
   "execution_count": 1,
   "id": "ranking-quilt",
   "metadata": {},
   "outputs": [],
   "source": [
    "import math\n",
    "import numpy as np\n",
    "import pandas as pd\n",
    "import matplotlib.pyplot as plt\n",
    "from tqdm.notebook import tqdm\n",
    "from PIL import Image"
   ]
  },
  {
   "cell_type": "code",
   "execution_count": 2,
   "id": "opening-moisture",
   "metadata": {},
   "outputs": [],
   "source": [
    "from utils import rgb2binary"
   ]
  },
  {
   "cell_type": "code",
   "execution_count": 3,
   "id": "played-methodology",
   "metadata": {},
   "outputs": [],
   "source": [
    "map1 = Image.open('init_maps/map_1.jpg')\n",
    "\n",
    "map1 = rgb2binary(np.array(map1))"
   ]
  },
  {
   "cell_type": "code",
   "execution_count": 4,
   "id": "cosmetic-convergence",
   "metadata": {},
   "outputs": [
    {
     "data": {
      "text/plain": [
       "<matplotlib.image.AxesImage at 0x20f928bb250>"
      ]
     },
     "execution_count": 4,
     "metadata": {},
     "output_type": "execute_result"
    },
    {
     "data": {
      "image/png": "[encoded data removed]",
      "text/plain": [
       "<Figure size 432x288 with 1 Axes>"
      ]
     },
     "metadata": {
      "needs_background": "light"
     },
     "output_type": "display_data"
    }
   ],
   "source": [
    "plt.imshow(map1, cmap='gray')"
   ]
  },
  {
   "cell_type": "code",
   "execution_count": 5,
   "id": "traditional-bread",
   "metadata": {},
   "outputs": [],
   "source": [
    "from utils import MapAugmentator, TaskGenerator"
   ]
  },
  {
   "cell_type": "code",
   "execution_count": 6,
   "id": "representative-decimal",
   "metadata": {},
   "outputs": [],
   "source": [
    "map_augmentator = MapAugmentator(map1)\n",
    "map_augmentator.set_parameters(h_shift=4, w_shift=4, step=1, t_prob=0.5)"
   ]
  },
  {
   "cell_type": "code",
   "execution_count": 7,
   "id": "secure-wallace",
   "metadata": {},
   "outputs": [],
   "source": [
    "maps = map_augmentator.generate(n_maps=10)"
   ]
  },
  {
   "cell_type": "code",
   "execution_count": 8,
   "id": "caroline-syracuse",
   "metadata": {},
   "outputs": [],
   "source": [
    "from utils import make_grid"
   ]
  },
  {
   "cell_type": "code",
   "execution_count": 9,
   "id": "rapid-emperor",
   "metadata": {},
   "outputs": [],
   "source": [
    "grid = make_grid(maps, n_maps=10, margin=2)"
   ]
  },
  {
   "cell_type": "code",
   "execution_count": 10,
   "id": "theoretical-appointment",
   "metadata": {},
   "outputs": [
    {
     "data": {
      "image/png": "[encoded data removed]",
      "text/plain": [
       "<Figure size 1440x288 with 1 Axes>"
      ]
     },
     "metadata": {
      "needs_background": "light"
     },
     "output_type": "display_data"
    }
   ],
   "source": [
    "plt.figure(figsize=(20, 4))\n",
    "plt.imshow(grid, cmap='gray')\n",
    "plt.axis('off')\n",
    "plt.show()"
   ]
  },
  {
   "cell_type": "code",
   "execution_count": 11,
   "id": "average-green",
   "metadata": {},
   "outputs": [
    {
     "data": {
      "text/html": [
       "<div>\n",
       "<style scoped>\n",
       "    .dataframe tbody tr th:only-of-type {\n",
       "        vertical-align: middle;\n",
       "    }\n",
       "\n",
       "    .dataframe tbody tr th {\n",
       "        vertical-align: top;\n",
       "    }\n",
       "\n",
       "    .dataframe thead th {\n",
       "        text-align: right;\n",
       "    }\n",
       "</style>\n",
       "<table border=\"1\" class=\"dataframe\">\n",
       "  <thead>\n",
       "    <tr style=\"text-align: right;\">\n",
       "      <th></th>\n",
       "      <th>istart</th>\n",
       "      <th>jstart</th>\n",
       "      <th>igoal</th>\n",
       "      <th>jgoal</th>\n",
       "      <th>euclid</th>\n",
       "    </tr>\n",
       "  </thead>\n",
       "  <tbody>\n",
       "    <tr>\n",
       "      <th>0</th>\n",
       "      <td>57</td>\n",
       "      <td>21</td>\n",
       "      <td>1</td>\n",
       "      <td>15</td>\n",
       "      <td>56.320511</td>\n",
       "    </tr>\n",
       "    <tr>\n",
       "      <th>1</th>\n",
       "      <td>63</td>\n",
       "      <td>61</td>\n",
       "      <td>0</td>\n",
       "      <td>25</td>\n",
       "      <td>72.560320</td>\n",
       "    </tr>\n",
       "    <tr>\n",
       "      <th>2</th>\n",
       "      <td>38</td>\n",
       "      <td>33</td>\n",
       "      <td>1</td>\n",
       "      <td>61</td>\n",
       "      <td>46.400431</td>\n",
       "    </tr>\n",
       "    <tr>\n",
       "      <th>3</th>\n",
       "      <td>51</td>\n",
       "      <td>62</td>\n",
       "      <td>22</td>\n",
       "      <td>63</td>\n",
       "      <td>29.017236</td>\n",
       "    </tr>\n",
       "    <tr>\n",
       "      <th>4</th>\n",
       "      <td>0</td>\n",
       "      <td>52</td>\n",
       "      <td>21</td>\n",
       "      <td>13</td>\n",
       "      <td>44.294469</td>\n",
       "    </tr>\n",
       "    <tr>\n",
       "      <th>5</th>\n",
       "      <td>17</td>\n",
       "      <td>29</td>\n",
       "      <td>53</td>\n",
       "      <td>35</td>\n",
       "      <td>36.496575</td>\n",
       "    </tr>\n",
       "    <tr>\n",
       "      <th>6</th>\n",
       "      <td>14</td>\n",
       "      <td>3</td>\n",
       "      <td>20</td>\n",
       "      <td>54</td>\n",
       "      <td>51.351728</td>\n",
       "    </tr>\n",
       "    <tr>\n",
       "      <th>7</th>\n",
       "      <td>27</td>\n",
       "      <td>7</td>\n",
       "      <td>35</td>\n",
       "      <td>37</td>\n",
       "      <td>31.048349</td>\n",
       "    </tr>\n",
       "    <tr>\n",
       "      <th>8</th>\n",
       "      <td>30</td>\n",
       "      <td>50</td>\n",
       "      <td>30</td>\n",
       "      <td>19</td>\n",
       "      <td>31.000000</td>\n",
       "    </tr>\n",
       "    <tr>\n",
       "      <th>9</th>\n",
       "      <td>15</td>\n",
       "      <td>1</td>\n",
       "      <td>57</td>\n",
       "      <td>12</td>\n",
       "      <td>43.416587</td>\n",
       "    </tr>\n",
       "  </tbody>\n",
       "</table>\n",
       "</div>"
      ],
      "text/plain": [
       "   istart  jstart  igoal  jgoal     euclid\n",
       "0      57      21      1     15  56.320511\n",
       "1      63      61      0     25  72.560320\n",
       "2      38      33      1     61  46.400431\n",
       "3      51      62     22     63  29.017236\n",
       "4       0      52     21     13  44.294469\n",
       "5      17      29     53     35  36.496575\n",
       "6      14       3     20     54  51.351728\n",
       "7      27       7     35     37  31.048349\n",
       "8      30      50     30     19  31.000000\n",
       "9      15       1     57     12  43.416587"
      ]
     },
     "execution_count": 11,
     "metadata": {},
     "output_type": "execute_result"
    }
   ],
   "source": [
    "task_generator=TaskGenerator(map1)\n",
    "task_generator.set_parameters(min_length=20)\n",
    "tasks = task_generator.generate(n_tasks=10)\n",
    "pd.DataFrame.from_dict(tasks)"
   ]
  },
  {
   "cell_type": "code",
   "execution_count": 12,
   "id": "romance-characterization",
   "metadata": {},
   "outputs": [],
   "source": [
    "from utils import save_maps_and_tasks"
   ]
  },
  {
   "cell_type": "code",
   "execution_count": 13,
   "id": "surprised-smile",
   "metadata": {},
   "outputs": [],
   "source": [
    "fnames = ['map_'+str(i) for i in range(1, 6)]\n",
    "\n",
    "h_shift=4\n",
    "w_shift=4\n",
    "step=1\n",
    "t_prob=0.5\n",
    "\n",
    "n_maps=10\n",
    "n_tasks=50\n",
    "min_length=20"
   ]
  },
  {
   "cell_type": "code",
   "execution_count": 14,
   "id": "skilled-angola",
   "metadata": {},
   "outputs": [
    {
     "data": {
      "application/vnd.jupyter.widget-view+json": {
       "model_id": "7d00738d58a848f4b8c942aa5f51035e",
       "version_major": 2,
       "version_minor": 0
      },
      "text/plain": [
       "0it [00:00, ?it/s]"
      ]
     },
     "metadata": {},
     "output_type": "display_data"
    },
    {
     "data": {
      "image/png": "[encoded data removed]",
      "text/plain": [
       "<Figure size 1440x288 with 1 Axes>"
      ]
     },
     "metadata": {
      "needs_background": "light"
     },
     "output_type": "display_data"
    },
    {
     "data": {
      "image/png": "[encoded data removed]",
      "text/plain": [
       "<Figure size 1440x288 with 1 Axes>"
      ]
     },
     "metadata": {
      "needs_background": "light"
     },
     "output_type": "display_data"
    },
    {
     "data": {
      "image/png": "[encoded data removed]",
      "text/plain": [
       "<Figure size 1440x288 with 1 Axes>"
      ]
     },
     "metadata": {
      "needs_background": "light"
     },
     "output_type": "display_data"
    },
    {
     "data": {
      "image/png": "[encoded data removed]",
      "text/plain": [
       "<Figure size 1440x288 with 1 Axes>"
      ]
     },
     "metadata": {
      "needs_background": "light"
     },
     "output_type": "display_data"
    },
    {
     "data": {
      "image/png": "[encoded data removed]",
      "text/plain": [
       "<Figure size 1440x288 with 1 Axes>"
      ]
     },
     "metadata": {
      "needs_background": "light"
     },
     "output_type": "display_data"
    }
   ],
   "source": [
    "for i, fname in tqdm(enumerate(fnames)):\n",
    "    init_map = Image.open(f'init_maps/{fname}.jpg')\n",
    "    init_map = rgb2binary(np.array(init_map))\n",
    "    \n",
    "    map_augmentator = MapAugmentator(init_map)\n",
    "    \n",
    "    map_augmentator.set_parameters(h_shift=h_shift,\n",
    "                                   w_shift=w_shift,\n",
    "                                   step=step,\n",
    "                                   t_prob=t_prob)\n",
    "    \n",
    "    maps = map_augmentator.generate(n_maps=n_maps)\n",
    "    tasks=[]\n",
    "    \n",
    "    for m in maps:\n",
    "        task_generator=TaskGenerator(m)\n",
    "        task_generator.set_parameters(min_length=min_length)\n",
    "        tasks.append(task_generator.generate(n_tasks=n_tasks))\n",
    "        \n",
    "    grid = make_grid(maps, n_maps=10, margin=2)\n",
    "    plt.figure(figsize=(20, 4))\n",
    "    plt.imshow(grid, cmap='gray')\n",
    "    plt.axis('off')\n",
    "    plt.show()\n",
    "    save_maps_and_tasks(maps, tasks, m_path='maps/', t_path='tasks/',  istart=i*n_maps)"
   ]
  },
  {
   "cell_type": "code",
   "execution_count": null,
   "id": "regulated-camel",
   "metadata": {},
   "outputs": [],
   "source": []
  }
 ],
 "metadata": {
  "kernelspec": {
   "display_name": "Python 3",
   "language": "python",
   "name": "python3"
  },
  "language_info": {
   "codemirror_mode": {
    "name": "ipython",
    "version": 3
   },
   "file_extension": ".py",
   "mimetype": "text/x-python",
   "name": "python",
   "nbconvert_exporter": "python",
   "pygments_lexer": "ipython3",
   "version": "3.9.2"
  }
 },
 "nbformat": 4,
 "nbformat_minor": 5
}
